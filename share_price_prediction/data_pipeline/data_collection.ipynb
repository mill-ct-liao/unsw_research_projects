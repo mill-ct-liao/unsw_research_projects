{
 "cells": [
  {
   "cell_type": "markdown",
   "id": "dff476c7",
   "metadata": {},
   "source": [
    "# Configuration"
   ]
  },
  {
   "cell_type": "code",
   "execution_count": 1,
   "id": "ff5b77f7",
   "metadata": {},
   "outputs": [],
   "source": [
    "import numpy as np\n",
    "import pandas as pd\n",
    "import yfinance as yf\n",
    "import os\n",
    "import sys\n",
    "sys.path.insert(1, '/home/mill-ct-liao/Desktop/share_price_prediction/utils')\n",
    "from utils import *\n",
    "from data_pipeline import data_loader\n",
    "\n",
    "config = read_config(os.getcwd().replace('data_pipeline','')+'config.yml')"
   ]
  },
  {
   "cell_type": "markdown",
   "id": "1f194b9b",
   "metadata": {},
   "source": [
    "# Data Loader"
   ]
  },
  {
   "cell_type": "code",
   "execution_count": 2,
   "id": "dda11d7a",
   "metadata": {},
   "outputs": [],
   "source": [
    "folder_path = config['folder_path']\n",
    "asx200_list = pd.read_excel(folder_path+config['asx200_list'])\n",
    "codes = list(asx200_list.Code)\n",
    "\n",
    "start_date = config['start_date']\n",
    "end_date = config['end_date']\n",
    "\n",
    "load_data = data_loader(codes=codes)"
   ]
  },
  {
   "cell_type": "markdown",
   "id": "d798f099",
   "metadata": {},
   "source": [
    "# Data Collection"
   ]
  },
  {
   "cell_type": "code",
   "execution_count": 3,
   "id": "36851dab",
   "metadata": {},
   "outputs": [
    {
     "name": "stdout",
     "output_type": "stream",
     "text": [
      "begin\n",
      "- APT.AX: No data found, symbol may be delisted\n",
      "- AST.AX: No data found, symbol may be delisted\n",
      "- BIN.AX: No data found, symbol may be delisted\n",
      "- CCL.AX: No data found, symbol may be delisted\n",
      "- CIM.AX: No data found, symbol may be delisted\n",
      "- GXY.AX: No data found, symbol may be delisted\n",
      "- MLT.AX: No data found, symbol may be delisted\n",
      "- ORE.AX: No data found, symbol may be delisted\n",
      "- OSH.AX: No data found, symbol may be delisted\n",
      "- SKI.AX: No data found, symbol may be delisted\n",
      "- SLK.AX: No data found, symbol may be delisted\n",
      "- SYD.AX: No data found, symbol may be delisted\n",
      "- TLT.AX: No data found, symbol may be delisted\n",
      "- VOC.AX: No data found, symbol may be delisted\n",
      "- Z1P.AX: No data found, symbol may be delisted\n"
     ]
    }
   ],
   "source": [
    "historical_prices = load_data.collect_data(start_date, end_date)"
   ]
  },
  {
   "cell_type": "markdown",
   "id": "0ea9d9e6",
   "metadata": {},
   "source": [
    "# Remain Stocks with 5 Years History"
   ]
  },
  {
   "cell_type": "code",
   "execution_count": 4,
   "id": "29a8b411",
   "metadata": {},
   "outputs": [],
   "source": [
    "data_value_counts = historical_prices.code.value_counts()\n",
    "companies_5y = data_value_counts[data_value_counts==config['num_days_5y_companies']].index.tolist()\n",
    "companies_5y_historical_prices = historical_prices[historical_prices.code.isin(companies_5y)]\n",
    "companies_5y_historical_prices = companies_5y_historical_prices.loc[:,['Open','High','Low','Close','Volume','code']]"
   ]
  },
  {
   "cell_type": "code",
   "execution_count": 5,
   "id": "c8e9109f",
   "metadata": {},
   "outputs": [
    {
     "data": {
      "text/html": [
       "<div>\n",
       "<style scoped>\n",
       "    .dataframe tbody tr th:only-of-type {\n",
       "        vertical-align: middle;\n",
       "    }\n",
       "\n",
       "    .dataframe tbody tr th {\n",
       "        vertical-align: top;\n",
       "    }\n",
       "\n",
       "    .dataframe thead th {\n",
       "        text-align: right;\n",
       "    }\n",
       "</style>\n",
       "<table border=\"1\" class=\"dataframe\">\n",
       "  <thead>\n",
       "    <tr style=\"text-align: right;\">\n",
       "      <th></th>\n",
       "      <th>Open</th>\n",
       "      <th>High</th>\n",
       "      <th>Low</th>\n",
       "      <th>Close</th>\n",
       "      <th>Volume</th>\n",
       "      <th>code</th>\n",
       "    </tr>\n",
       "    <tr>\n",
       "      <th>Date</th>\n",
       "      <th></th>\n",
       "      <th></th>\n",
       "      <th></th>\n",
       "      <th></th>\n",
       "      <th></th>\n",
       "      <th></th>\n",
       "    </tr>\n",
       "  </thead>\n",
       "  <tbody>\n",
       "    <tr>\n",
       "      <th>2017-07-10</th>\n",
       "      <td>3.690000</td>\n",
       "      <td>3.710000</td>\n",
       "      <td>3.650000</td>\n",
       "      <td>3.660000</td>\n",
       "      <td>1762214.0</td>\n",
       "      <td>A2M</td>\n",
       "    </tr>\n",
       "    <tr>\n",
       "      <th>2017-07-11</th>\n",
       "      <td>3.790000</td>\n",
       "      <td>3.850000</td>\n",
       "      <td>3.740000</td>\n",
       "      <td>3.770000</td>\n",
       "      <td>4818463.0</td>\n",
       "      <td>A2M</td>\n",
       "    </tr>\n",
       "    <tr>\n",
       "      <th>2017-07-12</th>\n",
       "      <td>3.780000</td>\n",
       "      <td>3.810000</td>\n",
       "      <td>3.740000</td>\n",
       "      <td>3.760000</td>\n",
       "      <td>2323223.0</td>\n",
       "      <td>A2M</td>\n",
       "    </tr>\n",
       "    <tr>\n",
       "      <th>2017-07-13</th>\n",
       "      <td>3.810000</td>\n",
       "      <td>3.820000</td>\n",
       "      <td>3.750000</td>\n",
       "      <td>3.760000</td>\n",
       "      <td>1991029.0</td>\n",
       "      <td>A2M</td>\n",
       "    </tr>\n",
       "    <tr>\n",
       "      <th>2017-07-14</th>\n",
       "      <td>3.770000</td>\n",
       "      <td>3.810000</td>\n",
       "      <td>3.750000</td>\n",
       "      <td>3.780000</td>\n",
       "      <td>2375715.0</td>\n",
       "      <td>A2M</td>\n",
       "    </tr>\n",
       "    <tr>\n",
       "      <th>...</th>\n",
       "      <td>...</td>\n",
       "      <td>...</td>\n",
       "      <td>...</td>\n",
       "      <td>...</td>\n",
       "      <td>...</td>\n",
       "      <td>...</td>\n",
       "    </tr>\n",
       "    <tr>\n",
       "      <th>2022-07-04</th>\n",
       "      <td>24.200001</td>\n",
       "      <td>24.500000</td>\n",
       "      <td>24.010000</td>\n",
       "      <td>24.500000</td>\n",
       "      <td>4414.0</td>\n",
       "      <td>ZIM</td>\n",
       "    </tr>\n",
       "    <tr>\n",
       "      <th>2022-07-05</th>\n",
       "      <td>24.500000</td>\n",
       "      <td>24.500000</td>\n",
       "      <td>24.049999</td>\n",
       "      <td>24.059999</td>\n",
       "      <td>2339.0</td>\n",
       "      <td>ZIM</td>\n",
       "    </tr>\n",
       "    <tr>\n",
       "      <th>2022-07-06</th>\n",
       "      <td>24.000000</td>\n",
       "      <td>24.000000</td>\n",
       "      <td>23.059999</td>\n",
       "      <td>23.580000</td>\n",
       "      <td>14365.0</td>\n",
       "      <td>ZIM</td>\n",
       "    </tr>\n",
       "    <tr>\n",
       "      <th>2022-07-07</th>\n",
       "      <td>23.500000</td>\n",
       "      <td>23.500000</td>\n",
       "      <td>21.770000</td>\n",
       "      <td>21.900000</td>\n",
       "      <td>21624.0</td>\n",
       "      <td>ZIM</td>\n",
       "    </tr>\n",
       "    <tr>\n",
       "      <th>2022-07-08</th>\n",
       "      <td>21.790001</td>\n",
       "      <td>22.940001</td>\n",
       "      <td>21.790001</td>\n",
       "      <td>22.639999</td>\n",
       "      <td>8955.0</td>\n",
       "      <td>ZIM</td>\n",
       "    </tr>\n",
       "  </tbody>\n",
       "</table>\n",
       "<p>217924 rows × 6 columns</p>\n",
       "</div>"
      ],
      "text/plain": [
       "                 Open       High        Low      Close     Volume code\n",
       "Date                                                                  \n",
       "2017-07-10   3.690000   3.710000   3.650000   3.660000  1762214.0  A2M\n",
       "2017-07-11   3.790000   3.850000   3.740000   3.770000  4818463.0  A2M\n",
       "2017-07-12   3.780000   3.810000   3.740000   3.760000  2323223.0  A2M\n",
       "2017-07-13   3.810000   3.820000   3.750000   3.760000  1991029.0  A2M\n",
       "2017-07-14   3.770000   3.810000   3.750000   3.780000  2375715.0  A2M\n",
       "...               ...        ...        ...        ...        ...  ...\n",
       "2022-07-04  24.200001  24.500000  24.010000  24.500000     4414.0  ZIM\n",
       "2022-07-05  24.500000  24.500000  24.049999  24.059999     2339.0  ZIM\n",
       "2022-07-06  24.000000  24.000000  23.059999  23.580000    14365.0  ZIM\n",
       "2022-07-07  23.500000  23.500000  21.770000  21.900000    21624.0  ZIM\n",
       "2022-07-08  21.790001  22.940001  21.790001  22.639999     8955.0  ZIM\n",
       "\n",
       "[217924 rows x 6 columns]"
      ]
     },
     "execution_count": 5,
     "metadata": {},
     "output_type": "execute_result"
    }
   ],
   "source": [
    "companies_5y_historical_prices"
   ]
  },
  {
   "cell_type": "markdown",
   "id": "3b7cbe1c",
   "metadata": {},
   "source": [
    "# Save Pandas Data"
   ]
  },
  {
   "cell_type": "code",
   "execution_count": 6,
   "id": "03c7c267",
   "metadata": {},
   "outputs": [],
   "source": [
    "companies_5y_historical_prices.to_excel(folder_path+config['asx200_historical_price'])"
   ]
  }
 ],
 "metadata": {
  "kernelspec": {
   "display_name": "Python 3 (ipykernel)",
   "language": "python",
   "name": "python3"
  },
  "language_info": {
   "codemirror_mode": {
    "name": "ipython",
    "version": 3
   },
   "file_extension": ".py",
   "mimetype": "text/x-python",
   "name": "python",
   "nbconvert_exporter": "python",
   "pygments_lexer": "ipython3",
   "version": "3.9.7"
  }
 },
 "nbformat": 4,
 "nbformat_minor": 5
}
