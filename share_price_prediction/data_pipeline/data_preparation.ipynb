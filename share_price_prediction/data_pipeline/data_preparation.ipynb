{
 "cells": [
  {
   "cell_type": "markdown",
   "id": "70d88e8e",
   "metadata": {},
   "source": [
    "# Configuration"
   ]
  },
  {
   "cell_type": "code",
   "execution_count": 1,
   "id": "c92828fc",
   "metadata": {},
   "outputs": [],
   "source": [
    "import numpy as np\n",
    "import pandas as pd\n",
    "import time\n",
    "import datetime\n",
    "import os\n",
    "import sys\n",
    "sys.path.insert(1, '/home/mill-ct-liao/Desktop/share_price_prediction/utils')\n",
    "from utils import *\n",
    "from data_pipeline import data_loader\n",
    "\n",
    "config = read_config(os.getcwd().replace('data_pipeline','')+'config.yml')"
   ]
  },
  {
   "cell_type": "markdown",
   "id": "9ab951be",
   "metadata": {},
   "source": [
    "# Data Loader"
   ]
  },
  {
   "cell_type": "code",
   "execution_count": 2,
   "id": "585dcfd8",
   "metadata": {},
   "outputs": [],
   "source": [
    "folder_path = config['folder_path']\n",
    "asx200_historical_prices = pd.read_excel(folder_path+config['asx200_historical_price'])\n",
    "dates = sorted(list(set(asx200_historical_prices.Date)))\n",
    "\n",
    "load_data = data_loader(data=asx200_historical_prices, dates=dates)"
   ]
  },
  {
   "cell_type": "markdown",
   "id": "20b3d37d",
   "metadata": {},
   "source": [
    "# Data Preparation"
   ]
  },
  {
   "cell_type": "code",
   "execution_count": 3,
   "id": "cca1b476",
   "metadata": {},
   "outputs": [
    {
     "name": "stdout",
     "output_type": "stream",
     "text": [
      "total time: 1233\n",
      "Run Time:\n",
      "676.27237081527709960938 secs\n",
      "11.27120618025461773470 mins\n",
      "0.18785343633757697890 hours\n"
     ]
    }
   ],
   "source": [
    "window_size = config['window_size']\n",
    "horizon_size = config['horizon_size']\n",
    "target = config['target']\n",
    "\n",
    "start_time = time.time()\n",
    "\n",
    "X, Y = load_data.prepare_data(target, window_size, horizon_size)\n",
    "\n",
    "end_time = time.time()\n",
    "\n",
    "run_time(end_time, start_time)"
   ]
  },
  {
   "cell_type": "code",
   "execution_count": 4,
   "id": "b8468198",
   "metadata": {},
   "outputs": [
    {
     "name": "stdout",
     "output_type": "stream",
     "text": [
      "X shape:  (212076, 6, 28)\n",
      "Y shape:  (212076, 1, 7)\n"
     ]
    }
   ],
   "source": [
    "print('X shape: ', X.shape)\n",
    "print('Y shape: ', Y.shape)"
   ]
  },
  {
   "cell_type": "markdown",
   "id": "f56a9630",
   "metadata": {},
   "source": [
    "# Save Numpy Array Data"
   ]
  },
  {
   "cell_type": "code",
   "execution_count": 5,
   "id": "da750658",
   "metadata": {},
   "outputs": [],
   "source": [
    "np.save(folder_path+config['x_train'], X)\n",
    "np.save(folder_path+config['y_train'], Y)"
   ]
  }
 ],
 "metadata": {
  "kernelspec": {
   "display_name": "Python 3 (ipykernel)",
   "language": "python",
   "name": "python3"
  },
  "language_info": {
   "codemirror_mode": {
    "name": "ipython",
    "version": 3
   },
   "file_extension": ".py",
   "mimetype": "text/x-python",
   "name": "python",
   "nbconvert_exporter": "python",
   "pygments_lexer": "ipython3",
   "version": "3.9.7"
  }
 },
 "nbformat": 4,
 "nbformat_minor": 5
}
