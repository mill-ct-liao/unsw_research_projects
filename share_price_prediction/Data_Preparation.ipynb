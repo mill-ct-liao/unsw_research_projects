{
 "cells": [
  {
   "cell_type": "code",
   "execution_count": 1,
   "id": "c92828fc",
   "metadata": {},
   "outputs": [],
   "source": [
    "import numpy as np\n",
    "import pandas as pd\n",
    "import time\n",
    "from utils import *\n",
    "\n",
    "config = read_config('config.yml')"
   ]
  },
  {
   "cell_type": "code",
   "execution_count": 2,
   "id": "585dcfd8",
   "metadata": {},
   "outputs": [],
   "source": [
    "asx200_historical_prices = pd.read_excel(config['asx200_historical_price'])\n",
    "codes = sorted(list(set(asx200_historical_prices.code)))"
   ]
  },
  {
   "cell_type": "code",
   "execution_count": 3,
   "id": "cca1b476",
   "metadata": {},
   "outputs": [],
   "source": [
    "window_size = config['window_size']\n",
    "horizon_size = config['horizon_size']\n",
    "\n",
    "def data_preparation(data, target, window_size, horizon_size):\n",
    "    for code in codes:\n",
    "        print(code)\n",
    "        share_prices = asx200_historical_prices[asx200_historical_prices.code==code].reset_index(drop=True)\n",
    "        for time in range(len(share_prices)-window_size-horizon_size+1):        \n",
    "            try:\n",
    "                x = np.expand_dims(share_prices.loc[time:time+window_size-1, ['Open','High','Low','Close','Volume','code']].values.T, axis=0)\n",
    "                X = np.append(X, x, axis=0)\n",
    "                y = share_prices.loc[time+window_size:time+window_size+horizon_size-1, [target]].values.T\n",
    "                Y = np.append(Y, y, axis=0)\n",
    "            except:\n",
    "                print('begin')\n",
    "                X = np.expand_dims(share_prices.loc[time:time+window_size-1, ['Open','High','Low','Close','Volume','code']].values.T, axis=0)\n",
    "                Y = share_prices.loc[time+window_size:time+window_size+horizon_size-1, [target]].values.T\n",
    "            \n",
    "    return X, Y"
   ]
  },
  {
   "cell_type": "code",
   "execution_count": null,
   "id": "b75d7bee",
   "metadata": {},
   "outputs": [
    {
     "name": "stdout",
     "output_type": "stream",
     "text": [
      "A2M\n",
      "begin\n",
      "AAA\n",
      "ABC\n",
      "ABP\n",
      "AFI\n",
      "AGL\n",
      "AIA\n",
      "ALD\n",
      "ALL\n",
      "ALQ\n",
      "ALU\n",
      "ALX\n",
      "AMC\n",
      "AMP\n",
      "ANN\n",
      "ANZ\n",
      "APA\n",
      "APE\n",
      "APX\n",
      "ARB\n",
      "ARG\n",
      "ASX\n",
      "AWC\n",
      "AZJ\n",
      "BAP\n"
     ]
    }
   ],
   "source": [
    "start_time = time.time()\n",
    "\n",
    "X, Y = data_preparation(asx200_historical_prices, config['target'], window_size, horizon_size)\n",
    "\n",
    "end_time = time.time()\n",
    "\n",
    "run_time(end_time, start_time)"
   ]
  },
  {
   "cell_type": "code",
   "execution_count": null,
   "id": "b8468198",
   "metadata": {},
   "outputs": [],
   "source": [
    "X.shape"
   ]
  },
  {
   "cell_type": "code",
   "execution_count": null,
   "id": "4c07e78a",
   "metadata": {},
   "outputs": [],
   "source": [
    "Y.shape"
   ]
  },
  {
   "cell_type": "code",
   "execution_count": null,
   "id": "da750658",
   "metadata": {},
   "outputs": [],
   "source": []
  }
 ],
 "metadata": {
  "kernelspec": {
   "display_name": "Python 3 (ipykernel)",
   "language": "python",
   "name": "python3"
  },
  "language_info": {
   "codemirror_mode": {
    "name": "ipython",
    "version": 3
   },
   "file_extension": ".py",
   "mimetype": "text/x-python",
   "name": "python",
   "nbconvert_exporter": "python",
   "pygments_lexer": "ipython3",
   "version": "3.9.7"
  }
 },
 "nbformat": 4,
 "nbformat_minor": 5
}
